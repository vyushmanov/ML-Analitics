{
 "cells": [
  {
   "cell_type": "markdown",
   "metadata": {},
   "source": [
    "# Выбор региона для миграции семьи\n",
    "\n",
    "![title](https://raw.githubusercontent.com/vyushmanov/ML-Analitics/master/2020-08-26_Region_family_matrix/Pic.JPG)"
   ]
  },
  {
   "cell_type": "code",
   "execution_count": 1,
   "metadata": {},
   "outputs": [
    {
     "data": {
      "text/html": [
       "\n",
       "        <script>\n",
       "            function code_toggle_11524412835028759823() {\n",
       "                $('div.cell.code_cell.rendered.selected').find('div.input').toggle();\n",
       "            }\n",
       "\n",
       "            \n",
       "        </script>\n",
       "\n",
       "        <a href=\"javascript:code_toggle_11524412835028759823()\">Блок функций и библиотек</a>\n",
       "    "
      ],
      "text/plain": [
       "<IPython.core.display.HTML object>"
      ]
     },
     "execution_count": 1,
     "metadata": {},
     "output_type": "execute_result"
    }
   ],
   "source": [
    "# БИБЛИОТЕКИ\n",
    "\n",
    "import re\n",
    "import numpy as np\n",
    "import pandas as pd\n",
    "\n",
    "from tabulate import tabulate \n",
    "from IPython.display import HTML, display\n",
    "from sklearn.preprocessing import MinMaxScaler\n",
    "\n",
    "pd.set_option('display.max_rows', 50) # выведем больше строк\n",
    "pd.set_option('display.max_columns', 50) # выведем больше колонок\n",
    "import warnings; warnings.simplefilter('ignore') #  отключение вывода предупреждающих сообщений\n",
    "\n",
    "\n",
    "# ФУНКЦИИ\n",
    "\n",
    "def standardization_name(df, original_name, small_name):\n",
    "    pattern = '[Городг.Республика]*\\s*([\\w\\-]+)'\n",
    "    df[small_name] = df[original_name].apply(lambda x: re.findall(pattern, x.strip())[0])\n",
    "    return df\n",
    "    \n",
    "def show_matrix(matrix, target_columns):\n",
    "    matrix = matrix[target_columns]\n",
    "    matrix = matrix.fillna(0)\n",
    "    for i in target_columns[2:]:\n",
    "        matrix[i] = matrix[i].map(lambda x: 0 if type(x) == 'str' else x)\n",
    "        \n",
    "        if 'delta' in i:\n",
    "            matrix[i] = matrix[i].map(lambda x: '' if x == 0 else '+' + str(int(x)) + '%')\n",
    "        elif 'share' in i or 'grow' in i or 'scre' in i or i == 'Код':\n",
    "            matrix[i] = matrix[i].map(lambda x: '' if x == 0 else str(round(x,1)) + '%')\n",
    "        elif 'scho' in i:\n",
    "            matrix[i] = matrix[i].map(lambda x: '' if x == 0 else str(round(x,3)))\n",
    "        else:\n",
    "            matrix[i] = matrix[i].map(lambda x: '' if x == 0 else str(int(x)) if x > 1000 else x)\n",
    "    \n",
    "    return matrix \n",
    "\n",
    "\n",
    "# Код, позволяющий скрывать ячейки\n",
    "from IPython.display import HTML\n",
    "import random\n",
    "\n",
    "def hide_toggle(toggle_text = 'Toggle show/hide', for_next=False):\n",
    "    this_cell = \"\"\"$('div.cell.code_cell.rendered.selected')\"\"\"\n",
    "    next_cell = this_cell + '.next()'\n",
    "\n",
    "#    toggle_text = 'Toggle show/hide'  # text shown on toggle link\n",
    "    target_cell = this_cell  # target cell to control with toggle\n",
    "    js_hide_current = ''  # bit of JS to permanently hide code in current cell (only when toggling next cell)\n",
    "\n",
    "    if for_next:\n",
    "        target_cell = next_cell\n",
    "        toggle_text += ' next cell'\n",
    "        js_hide_current = this_cell + '.find(\"div.input\").hide();'\n",
    "\n",
    "    js_f_name = 'code_toggle_{}'.format(str(random.randint(1,2**64)))\n",
    "\n",
    "    html = \"\"\"\n",
    "        <script>\n",
    "            function {f_name}() {{\n",
    "                {cell_selector}.find('div.input').toggle();\n",
    "            }}\n",
    "\n",
    "            {js_hide_current}\n",
    "        </script>\n",
    "\n",
    "        <a href=\"javascript:{f_name}()\">{toggle_text}</a>\n",
    "    \"\"\".format(\n",
    "        f_name=js_f_name,\n",
    "        cell_selector=target_cell,\n",
    "        js_hide_current=js_hide_current, \n",
    "        toggle_text=toggle_text\n",
    "    )\n",
    "\n",
    "    return HTML(html)\n",
    "\n",
    "hide_toggle('Блок функций и библиотек')\n"
   ]
  },
  {
   "cell_type": "markdown",
   "metadata": {},
   "source": [
    "### Мероприятия по подготовке данных к исследованию\n",
    "\n",
    "При работе со статистическими данными, касающимися регионов и субъектов федерации, приходится решать проблему несоответствия наименований объектов, используемых в различных источниках.\n",
    "\n",
    "В целях стандартизации перечня наименований произведем его приведение к Списоку регионов России в порядке заполнения формы РСВ (Приложение № 7).\n",
    "Для этого сократим используемые наименования устранив упоминание о форме административного образования (область, край и т.д.)\n"
   ]
  },
  {
   "cell_type": "code",
   "execution_count": 2,
   "metadata": {},
   "outputs": [],
   "source": [
    "# Стандартизация наименований субъектов федерации\n",
    "\n",
    "xls = pd.ExcelFile('codeSF.xlsx')\n",
    "sf_code = pd.read_excel(xls, 'Sheet1')\n",
    "sf_code.dropna(axis = 0, inplace = True)\n",
    "\n",
    "sf_code = standardization_name(sf_code, 'Наименование', 'sm_name')"
   ]
  },
  {
   "cell_type": "markdown",
   "metadata": {},
   "source": [
    "## Доходы и расходы населения\n",
    "\n"
   ]
  },
  {
   "cell_type": "code",
   "execution_count": 3,
   "metadata": {
    "scrolled": true
   },
   "outputs": [
    {
     "name": "stdout",
     "output_type": "stream",
     "text": [
      "<class 'pandas.core.frame.DataFrame'>\n",
      "RangeIndex: 96 entries, 0 to 95\n",
      "Data columns (total 11 columns):\n",
      "name         96 non-null object\n",
      "2013         94 non-null float64\n",
      "2014         94 non-null float64\n",
      "2015         96 non-null float64\n",
      "2016         96 non-null float64\n",
      "2017         96 non-null float64\n",
      "2018         96 non-null float64\n",
      "2019         96 non-null float64\n",
      "revenue17    96 non-null float64\n",
      "revenue19    96 non-null float64\n",
      "sm_name      96 non-null object\n",
      "dtypes: float64(9), object(2)\n",
      "memory usage: 8.4+ KB\n"
     ]
    }
   ],
   "source": [
    "# Смотрим на доходы\n",
    "\n",
    "xls = pd.ExcelFile('Revenue.xlsx')\n",
    "revenue = pd.read_excel(xls, '2013-2018',header = 3)\n",
    "revenue = revenue.dropna(how = 'all', axis = 0, thresh = 30)\n",
    "\n",
    "revenue19 = pd.read_excel(xls, '2019',header = 2)\n",
    "revenue19 = revenue19.dropna(how = 'all', axis = 0, thresh = 11)\n",
    "revenue19 = revenue19.dropna(axis = 1)\n",
    "revenue = pd.merge(revenue, revenue19, on = ['Unnamed: 0'])\n",
    "revenue = pd.DataFrame(np.rot90(np.array(revenue).T, 3))\n",
    "revenue = revenue[revenue.columns.to_list()[::-1]]\n",
    "column_list = ['name']\n",
    "m = 1\n",
    "y = 2013\n",
    "for i in revenue.columns.to_list()[1:]:\n",
    "    column_list.append(str(y) + '-' + str(m).zfill(2))\n",
    "    m += 1\n",
    "    if m == 13:\n",
    "        m = 1\n",
    "        y += 1\n",
    "revenue.columns = column_list\n",
    "\n",
    "matrix = pd.DataFrame(revenue['name'])\n",
    "\n",
    "for y in range(2013, 2019+1):\n",
    "    temp_column_list = ['name']\n",
    "    for c in column_list:\n",
    "        if str(y) in c:\n",
    "            temp_column_list.append(c)\n",
    "    df = revenue[temp_column_list]\n",
    "    res = []\n",
    "    for s in np.array(df):\n",
    "        res.append(round(np.median(s[1:]), 2))\n",
    "    matrix[str(y)] = res\n",
    "matrix['revenue17'] = matrix['2017'].apply(lambda x: x*2)\n",
    "matrix['revenue19'] = matrix['2019'].apply(lambda x: x*2)\n",
    "revenue = standardization_name(matrix, 'name', 'sm_name')\n",
    "revenue.info()"
   ]
  },
  {
   "cell_type": "code",
   "execution_count": 4,
   "metadata": {
    "scrolled": false
   },
   "outputs": [
    {
     "name": "stdout",
     "output_type": "stream",
     "text": [
      "<class 'pandas.core.frame.DataFrame'>\n",
      "Int64Index: 83 entries, 87 to 33\n",
      "Data columns (total 5 columns):\n",
      "Код            83 non-null float64\n",
      "coast17        83 non-null float64\n",
      "coast19        83 non-null float64\n",
      "sm_name        83 non-null object\n",
      "delta_coast    83 non-null float64\n",
      "dtypes: float64(4), object(1)\n",
      "memory usage: 3.9+ KB\n"
     ]
    }
   ],
   "source": [
    "# Исследуем данные о прожиточном минимуме\n",
    "\n",
    "xls = pd.ExcelFile('Coasts.xls')\n",
    "coast17 = pd.read_excel(xls, 'Данные',header = 4)\n",
    "coast17 = coast17.dropna(how = 'all', axis = 0, thresh = 5)\n",
    "coast17.rename(columns = lambda x: x.replace('Unnamed: 0', 'name'), inplace=True)\n",
    "coast17['chil'] = coast17.apply(lambda x: [x['Дети'], x['Дети.1'], x['Дети.2'], x['Дети.2']], axis = 1)\n",
    "coast17['chil'] = coast17['chil'].map(lambda x: np.median(x))\n",
    "coast17['work'] = coast17.apply(lambda x: [x['Трудоспособное население'], x['Трудоспособное население.1'],\n",
    "                                         x['Трудоспособное население.2'], x['Трудоспособное население.2']], axis = 1)\n",
    "coast17['work'] = coast17['work'].map(lambda x: np.median(x))\n",
    "coast17['coast17'] = coast17.apply(lambda x: x['work']*2 + x['chil']*2, axis = 1)\n",
    "coast17['name'] = coast17['name'].apply(lambda x: x.replace('федерального значения ',''))\n",
    "coast17 = coast17[['name', 'coast17']]\n",
    "coast17 = standardization_name(coast17, 'name', 'sm_name')\n",
    "\n",
    "xls = pd.ExcelFile('vpm.xlsx')\n",
    "coast19 = pd.read_excel(xls, 'Sheet1',header = 2)\n",
    "coast19.rename(columns = lambda x: x.replace('Unnamed: 0', 'name'), inplace=True)\n",
    "coast19 = coast19.dropna(how = 'all', axis = 0, thresh = 3)\n",
    "coast19['coast19'] = coast19.apply(lambda x: x['трудоспособное население']*2 + x['дети']*2, axis = 1)\n",
    "coast19['name'] = coast19['name'].apply(lambda x: x.replace('авт.область','автономная область')\n",
    "                                                    .replace('авт.округ','автономный округ'))\n",
    "coast19 = coast19[['name', 'coast19']]\n",
    "coast19 = standardization_name(coast19, 'name', 'sm_name')\n",
    "\n",
    "coasts = pd.merge(sf_code, coast17, how = 'left', on = ['sm_name'])\n",
    "coasts = pd.merge(coasts, coast19, how = 'left', on = ['sm_name'])\n",
    "columns = ['Код', 'coast17', 'coast19', 'sm_name']\n",
    "coasts = coasts[columns]\n",
    "\n",
    "coasts['coast17'] = coasts['coast17'].apply(lambda x: None if x == 0 else x)\n",
    "coasts['coast19'] = coasts['coast19'].apply(lambda x: None if x == 0 or '-' in str(x) else x)\n",
    "coasts.dropna(axis = 0, inplace = True)\n",
    "coasts['delta_coast'] = coasts.apply(lambda x: round((x['coast19'] - x['coast17']) / x['coast17'] * 100, 2), axis = 1)\n",
    "coasts = coasts.sort_values(by = ['coast19'], ascending = False)\n",
    "coasts.info()"
   ]
  },
  {
   "cell_type": "code",
   "execution_count": 5,
   "metadata": {
    "scrolled": true
   },
   "outputs": [
    {
     "data": {
      "text/html": [
       "<table>\n",
       "<thead>\n",
       "<tr><th style=\"text-align: right;\">  </th><th style=\"text-align: right;\">  Код</th><th>name                              </th><th style=\"text-align: right;\">  revenue19</th><th style=\"text-align: right;\">  coast19</th><th style=\"text-align: right;\">  real_revenue19</th><th>delta_real_rev%  </th><th style=\"text-align: right;\">  welfare_rank</th></tr>\n",
       "</thead>\n",
       "<tbody>\n",
       "<tr><td style=\"text-align: right;\"> 0</td><td style=\"text-align: right;\">   72</td><td>Тюменская область                 </td><td style=\"text-align: right;\">   138690  </td><td style=\"text-align: right;\">    47402</td><td style=\"text-align: right;\">            2.93</td><td>+6.01%           </td><td style=\"text-align: right;\">             1</td></tr>\n",
       "<tr><td style=\"text-align: right;\"> 1</td><td style=\"text-align: right;\">   89</td><td>Ямало-Ненецкий авт. округ         </td><td style=\"text-align: right;\">   192782  </td><td style=\"text-align: right;\">    68814</td><td style=\"text-align: right;\">            2.8 </td><td>+6.54%           </td><td style=\"text-align: right;\">             2</td></tr>\n",
       "<tr><td style=\"text-align: right;\"> 2</td><td style=\"text-align: right;\">   65</td><td>Сахалинская область               </td><td style=\"text-align: right;\">   169186  </td><td style=\"text-align: right;\">    63832</td><td style=\"text-align: right;\">            2.65</td><td>+13.9%           </td><td style=\"text-align: right;\">             3</td></tr>\n",
       "<tr><td style=\"text-align: right;\"> 3</td><td style=\"text-align: right;\">   77</td><td>г.Москва                          </td><td style=\"text-align: right;\">   178090  </td><td style=\"text-align: right;\">    67996</td><td style=\"text-align: right;\">            2.62</td><td>+20.66%          </td><td style=\"text-align: right;\">             4</td></tr>\n",
       "<tr><td style=\"text-align: right;\"> 4</td><td style=\"text-align: right;\">   78</td><td>г.Санкт-Петербург                 </td><td style=\"text-align: right;\">   122282  </td><td style=\"text-align: right;\">    47520</td><td style=\"text-align: right;\">            2.57</td><td>+7.28%           </td><td style=\"text-align: right;\">             5</td></tr>\n",
       "<tr><td style=\"text-align: right;\"> 5</td><td style=\"text-align: right;\">   87</td><td>Чукотский авт.округ               </td><td style=\"text-align: right;\">   208717  </td><td style=\"text-align: right;\">    92708</td><td style=\"text-align: right;\">            2.25</td><td>+1.39%           </td><td style=\"text-align: right;\">             6</td></tr>\n",
       "<tr><td style=\"text-align: right;\"> 6</td><td style=\"text-align: right;\">   49</td><td>Магаданская область               </td><td style=\"text-align: right;\">   176085  </td><td style=\"text-align: right;\">    83752</td><td style=\"text-align: right;\">            2.1 </td><td>+8.27%           </td><td style=\"text-align: right;\">             7</td></tr>\n",
       "<tr><td style=\"text-align: right;\"> 7</td><td style=\"text-align: right;\">   50</td><td>Московская область                </td><td style=\"text-align: right;\">   108197  </td><td style=\"text-align: right;\">    51924</td><td style=\"text-align: right;\">            2.08</td><td>+13.92%          </td><td style=\"text-align: right;\">             8</td></tr>\n",
       "<tr><td style=\"text-align: right;\"> 8</td><td style=\"text-align: right;\">   47</td><td>Ленинградская область             </td><td style=\"text-align: right;\">    90737  </td><td style=\"text-align: right;\">    44050</td><td style=\"text-align: right;\">            2.06</td><td>+3.94%           </td><td style=\"text-align: right;\">             9</td></tr>\n",
       "<tr><td style=\"text-align: right;\"> 9</td><td style=\"text-align: right;\">   14</td><td>Республика Саха (Якутия)          </td><td style=\"text-align: right;\">   139651  </td><td style=\"text-align: right;\">    70828</td><td style=\"text-align: right;\">            1.97</td><td>+14.92%          </td><td style=\"text-align: right;\">            10</td></tr>\n",
       "<tr><td style=\"text-align: right;\">10</td><td style=\"text-align: right;\">   72</td><td>Тюменская область без авт. округов</td><td style=\"text-align: right;\">    92685.4</td><td style=\"text-align: right;\">    47402</td><td style=\"text-align: right;\">            1.96</td><td>+8.16%           </td><td style=\"text-align: right;\">            11</td></tr>\n",
       "<tr><td style=\"text-align: right;\">11</td><td style=\"text-align: right;\">   16</td><td>Республика Татарстан              </td><td style=\"text-align: right;\">    73674.2</td><td style=\"text-align: right;\">    38916</td><td style=\"text-align: right;\">            1.89</td><td>+5.57%           </td><td style=\"text-align: right;\">            12</td></tr>\n",
       "<tr><td style=\"text-align: right;\">12</td><td style=\"text-align: right;\">   42</td><td>Кемеровская область               </td><td style=\"text-align: right;\">    81681  </td><td style=\"text-align: right;\">    43578</td><td style=\"text-align: right;\">            1.87</td><td>+17.19%          </td><td style=\"text-align: right;\">            13</td></tr>\n",
       "<tr><td style=\"text-align: right;\">13</td><td style=\"text-align: right;\">   29</td><td>Архангельская область             </td><td style=\"text-align: right;\">   101186  </td><td style=\"text-align: right;\">    54136</td><td style=\"text-align: right;\">            1.87</td><td>+10.66%          </td><td style=\"text-align: right;\">            14</td></tr>\n",
       "<tr><td style=\"text-align: right;\">14</td><td style=\"text-align: right;\">   38</td><td>Иркутская область                 </td><td style=\"text-align: right;\">    88871.6</td><td style=\"text-align: right;\">    48568</td><td style=\"text-align: right;\">            1.83</td><td>+6.11%           </td><td style=\"text-align: right;\">            15</td></tr>\n",
       "</tbody>\n",
       "</table>"
      ],
      "text/plain": [
       "<IPython.core.display.HTML object>"
      ]
     },
     "metadata": {},
     "output_type": "display_data"
    },
    {
     "name": "stdout",
     "output_type": "stream",
     "text": [
      "<class 'pandas.core.frame.DataFrame'>\n",
      "Int64Index: 96 entries, 0 to 95\n",
      "Columns: 20 entries, name to delta_real_rev%\n",
      "dtypes: float64(16), int32(1), object(3)\n",
      "memory usage: 15.4+ KB\n"
     ]
    }
   ],
   "source": [
    "# Формируем сравнение покупательской способности по регионам\n",
    "\n",
    "matrix = pd.merge(revenue, coasts, how = 'left', on = ['sm_name'])\n",
    "#matrix.drop(['Код', 'sm_name'], axis=1, inplace = True)\n",
    "matrix['real_revenue17'] = matrix.apply(lambda x: x['revenue17'] / x['coast17'], axis = 1)\n",
    "matrix['real_revenue19'] = matrix.apply(lambda x: round(x['revenue19'] / x['coast19'], 2), axis = 1)\n",
    "\n",
    "matrix['delta_real_rev'] = matrix.apply(lambda x: round((x['real_revenue19'] - x['real_revenue17']) / x['real_revenue17'] * 100, 2), axis = 1)\n",
    "matrix = matrix.sort_values(by = ['real_revenue19'], ascending = False)\n",
    "matrix['welfare_rank'] = range(1, len(matrix)+1)\n",
    "matrix = matrix.sort_index()\n",
    "view_matrix = pd.DataFrame(matrix) \n",
    "view_matrix['delta_real_rev%'] = view_matrix['delta_real_rev'].map(lambda x: '+' + str(x) + '%' if x >= 0 else str(x) + '%')\n",
    "\n",
    "key_columns = ['Код', 'name', 'revenue19', 'coast19', 'real_revenue19', 'delta_real_rev%', 'welfare_rank']\n",
    "view_matrix = view_matrix.sort_values(by = ['real_revenue19'], ascending = False)\n",
    "view = view_matrix[key_columns].dropna(axis = 0)\n",
    "display(HTML(tabulate(np.array(view[view['real_revenue19'] > 1.8]), headers = key_columns, tablefmt='html', showindex=\"always\")))\n",
    "matrix.info(verbose = False)"
   ]
  },
  {
   "cell_type": "markdown",
   "metadata": {},
   "source": [
    "В представленной таблице:\n",
    "* __name__ - наименование субъекта федерации\n",
    "* __revenue19__ - средний доход семьи с двумя работающими родителями, 2019 год\n",
    "* __coast19__ - прожиточный минимум для семьи, состоящей из двух взрослых и двух детей, 2019 г.\n",
    "* __real_revenue19__ - покупательская способность семьи, рассчитанная как частное средних доходов семьи к ее среднему прожиточному минимуму, 2019 г.\n",
    "* __delta_real_rev__ - изменение покупательской способности семьи, произошедшее в период с 2017 по 2019 гг.\n",
    "\n",
    "Таблица отсортирована и отфильтрована по показателю покупательской способности."
   ]
  },
  {
   "cell_type": "code",
   "execution_count": 6,
   "metadata": {
    "scrolled": true
   },
   "outputs": [
    {
     "name": "stdout",
     "output_type": "stream",
     "text": [
      "ДОБАВЛЕНЫ СТОЛБЦЫ:\n",
      "<class 'pandas.core.frame.DataFrame'>\n",
      "RangeIndex: 96 entries, 0 to 95\n",
      "Data columns (total 1 columns):\n",
      "people    96 non-null int64\n",
      "dtypes: int64(1)\n",
      "memory usage: 896.0 bytes\n",
      "\n",
      "В МАТРИЦЕ:\n",
      "<class 'pandas.core.frame.DataFrame'>\n",
      "Int64Index: 96 entries, 0 to 99\n",
      "Columns: 21 entries, name to people\n",
      "dtypes: float64(17), int32(1), object(3)\n",
      "memory usage: 16.1+ KB\n"
     ]
    }
   ],
   "source": [
    "# Произведем оценку численности населения по состояния на 1 января 2019 года.\n",
    "\n",
    "xls = pd.ExcelFile('Population.xlsx')\n",
    "people = pd.read_excel(xls, 'Sheet1',header = 2)\n",
    "people.rename(columns = lambda x: x.replace('Unnamed: 0', 'name').replace('Все', 'people'), inplace=True)\n",
    "people = standardization_name(people[['name', 'people']], 'name', 'sm_name')\n",
    "matrix = pd.merge(matrix, people.drop(['name'], axis = 1), how = 'left', on = ['sm_name'])\n",
    "matrix = matrix.drop_duplicates(subset = ['sm_name', 'real_revenue19'], keep='first')\n",
    "\n",
    "print('ДОБАВЛЕНЫ СТОЛБЦЫ:')\n",
    "people.drop(['name', 'sm_name'], axis = 1).info()\n",
    "print('\\nВ МАТРИЦЕ:')\n",
    "matrix.info(verbose = False)"
   ]
  },
  {
   "cell_type": "code",
   "execution_count": 7,
   "metadata": {
    "scrolled": false
   },
   "outputs": [
    {
     "name": "stdout",
     "output_type": "stream",
     "text": [
      "ДОБАВЛЕНЫ СТОЛБЦЫ:\n",
      "<class 'pandas.core.frame.DataFrame'>\n",
      "Int64Index: 96 entries, 0 to 95\n",
      "Data columns (total 10 columns):\n",
      "school_on_10^5_people    95 non-null float64\n",
      "students                 96 non-null int64\n",
      "share_stud_people        95 non-null float64\n",
      "share_full_stud          95 non-null float64\n",
      "share_evening_stud       95 non-null float64\n",
      "share_corr_stud          95 non-null float64\n",
      "share_stud_femail        96 non-null float64\n",
      "growth_stud              95 non-null float64\n",
      "screening_out_stud       95 non-null float64\n",
      "share_extern_stud        95 non-null float64\n",
      "dtypes: float64(9), int64(1)\n",
      "memory usage: 8.2 KB\n",
      "\n",
      "В МАТРИЦЕ:\n",
      "<class 'pandas.core.frame.DataFrame'>\n",
      "Int64Index: 96 entries, 0 to 99\n",
      "Columns: 31 entries, name to share_extern_stud\n",
      "dtypes: float64(27), int32(1), object(3)\n",
      "memory usage: 23.6+ KB\n"
     ]
    }
   ],
   "source": [
    "# Разберем статистику ВУЗов\n",
    "\n",
    "xls = pd.ExcelFile('High_scool.xls')\n",
    "high_school = pd.read_excel(xls, 'Таблица 1', header = 6)\n",
    "high_school = high_school.dropna(how = 'all', axis = 0, thresh = 15)\n",
    "\n",
    "high_school.rename(columns = lambda x: str(x).replace('1', 'name')\n",
    "                   .replace('2', 'school')\n",
    "                   .replace('6', 'school_f')\n",
    "                   .replace('7', 'students') if len(str(x)) == 1 else x, inplace=True)\n",
    "new_column = []\n",
    "for i in high_school.columns.to_list():\n",
    "    new_column.append(str(i))\n",
    "high_school.columns = new_column   \n",
    "\n",
    "high_school = standardization_name(high_school, 'name', 'sm_name')\n",
    "high_school = pd.merge(high_school, people.drop(['name'], axis = 1), how = 'left', on = ['sm_name'])\n",
    "\n",
    "high_school['school_on_10^5_people']     = high_school.apply(lambda x: (x['school'] + x['school_f']) / x['people'] * 100000, axis = 1)\n",
    "high_school['share_stud_people']  = high_school.apply(lambda x: x['students'] / x['people'] * 100, axis = 1)\n",
    "high_school['share_full_stud']    = high_school.apply(lambda x: x['8'] / x['students'] * 100 if x['students'] != 0 else None, axis = 1)\n",
    "high_school['share_evening_stud'] = high_school.apply(lambda x: x['9'] / x['students'] * 100 if x['students'] != 0 else None, axis = 1)\n",
    "high_school['share_corr_stud']    = high_school.apply(lambda x: x['10'] / x['students'] * 100 if x['students'] != 0 else None, axis = 1)\n",
    "high_school.rename(columns = lambda x: str(x).replace('13', 'share_stud_femail'), inplace=True)\n",
    "high_school['growth_stud']        = high_school.apply(lambda x: (x['16'] - x['20']) / x['20'] * 100 if x['20'] != 0 else None, axis = 1)\n",
    "high_school['screening_out_stud'] = high_school.apply(lambda x: (x['16'] - x['20']) / x['16'] * 100 if x['16'] != 0 else None, axis = 1)\n",
    "high_school['share_extern_stud']  = high_school.apply(lambda x: x['24'] / x['20'] * 100 if x['20'] != 0 else None, axis = 1)\n",
    "high_school = high_school[['name', 'sm_name', 'school_on_10^5_people', 'students', 'share_stud_people'\n",
    "                           , 'share_full_stud', 'share_evening_stud', 'share_corr_stud', 'share_stud_femail'\n",
    "                           , 'growth_stud', 'screening_out_stud', 'share_extern_stud']]\n",
    "\n",
    "matrix = pd.merge(matrix, high_school.drop(['name'], axis = 1), how = 'left', on = ['sm_name'])\n",
    "matrix = matrix.drop_duplicates(subset = ['name', 'real_revenue19'], keep='first')\n",
    "\n",
    "print('ДОБАВЛЕНЫ СТОЛБЦЫ:')\n",
    "high_school.drop(['name', 'sm_name'], axis = 1).info()\n",
    "print('\\nВ МАТРИЦЕ:')\n",
    "matrix.info(verbose = False)"
   ]
  },
  {
   "cell_type": "code",
   "execution_count": 8,
   "metadata": {},
   "outputs": [
    {
     "name": "stdout",
     "output_type": "stream",
     "text": [
      "ДОБАВЛЕНЫ СТОЛБЦЫ:\n",
      "<class 'pandas.core.frame.DataFrame'>\n",
      "Int64Index: 96 entries, 0 to 95\n",
      "Data columns (total 4 columns):\n",
      "teachers            96 non-null int64\n",
      "share_teach_stud    95 non-null float64\n",
      "share_doc_teach     96 non-null float64\n",
      "share_mag_teach     96 non-null float64\n",
      "dtypes: float64(3), int64(1)\n",
      "memory usage: 3.8 KB\n",
      "\n",
      "В МАТРИЦЕ:\n",
      "<class 'pandas.core.frame.DataFrame'>\n",
      "Int64Index: 96 entries, 0 to 99\n",
      "Columns: 35 entries, name to share_mag_teach\n",
      "dtypes: float64(31), int32(1), object(3)\n",
      "memory usage: 26.6+ KB\n"
     ]
    }
   ],
   "source": [
    "# Проведем оценку численности преподавательского состава\n",
    "xls = pd.ExcelFile('Professors.xls')\n",
    "teachers = pd.read_excel(xls, 'Таблица 1', header = 6)\n",
    "\n",
    "teachers.rename(columns = lambda x: str(x).replace('11', 'share_mag_teach')\n",
    "                    .replace('1', 'name')\n",
    "                    .replace('2', 'teachers')\n",
    "                    .replace('9', 'share_doc_teach'), inplace=True)\n",
    "\n",
    "teachers = standardization_name(teachers[['name', 'teachers', 'share_doc_teach', 'share_mag_teach']], 'name', 'sm_name')\n",
    "teachers = pd.merge(teachers, matrix[['sm_name', 'students']], how = 'left', on = ['sm_name'])\n",
    "\n",
    "teachers['share_teach_stud'] = teachers.apply(lambda x: x['teachers'] / x['students'] * 100, axis = 1)\n",
    "teachers = teachers[['sm_name', 'teachers', 'share_teach_stud', 'share_doc_teach', 'share_mag_teach']]\n",
    "\n",
    "# Добавим полученные данные к матрице\n",
    "matrix = pd.merge(matrix, teachers, how = 'left', on = ['sm_name'])\n",
    "matrix = matrix.drop_duplicates(subset = ['name', 'real_revenue19'], keep='first')\n",
    "\n",
    "print('ДОБАВЛЕНЫ СТОЛБЦЫ:')\n",
    "teachers.drop(['sm_name'], axis = 1).info()\n",
    "print('\\nВ МАТРИЦЕ:')\n",
    "matrix.info(verbose = False)"
   ]
  },
  {
   "cell_type": "code",
   "execution_count": 9,
   "metadata": {
    "scrolled": false
   },
   "outputs": [
    {
     "name": "stdout",
     "output_type": "stream",
     "text": [
      "ДОБАВЛЕНЫ СТОЛБЦЫ\n",
      "teacher_age_avg\n",
      "teacher_age_median \n",
      "\n",
      "В МАТРИЦЕ:\n",
      "<class 'pandas.core.frame.DataFrame'>\n",
      "Int64Index: 96 entries, 0 to 99\n",
      "Columns: 37 entries, name to teacher_age_median\n",
      "dtypes: float64(33), int32(1), object(3)\n",
      "memory usage: 28.1+ KB\n"
     ]
    }
   ],
   "source": [
    "# Средний возраст преподавателей\n",
    "\n",
    "xls = pd.ExcelFile('Professors_age.xls')\n",
    "teachers_age = pd.read_excel(xls, 'Таблица 1', header = 5)\n",
    "\n",
    "vector_age = np.array([22,25,30,35,40,45,50,55,60,65,70])\n",
    "\n",
    "teachers_age.rename(columns = lambda x: str(x).replace('1', 'name'), inplace=True)\n",
    "teachers_age = standardization_name(teachers_age, 'name', 'sm_name')\n",
    "teachers_age = pd.merge(matrix[['sm_name']], teachers_age, how = 'left', on = ['sm_name'])\n",
    "teachers_age = teachers_age.fillna(0)\n",
    "\n",
    "teachers_age.drop(['name', 'sm_name'], inplace = True, axis = 1)\n",
    "v_teachers_age = np.array(teachers_age)\n",
    "v_teachers_age = np.around(v_teachers_age)\n",
    "\n",
    "# Расчет среднего возраста преподавателей\n",
    "matrix_age = v_teachers_age * vector_age[:-1]\n",
    "avg_teach_age = []\n",
    "for a in matrix_age:\n",
    "    avg_teach_age.append(np.around(sum(a)/100, decimals = 1))\n",
    "    \n",
    "matrix['teacher_age_avg'] = avg_teach_age\n",
    "\n",
    "# Рассчет медианных значений возраста преподавателей\n",
    "period_age = (vector_age[1:] - vector_age[:-1]) / v_teachers_age\n",
    "median_age = []\n",
    "for indexS, s in enumerate(v_teachers_age):\n",
    "    str_median_age = []\n",
    "    for indexC, c in enumerate(s):\n",
    "        for i in range(int(c)):\n",
    "            str_median_age.append(vector_age[indexC] + i * period_age[indexS][indexC])\n",
    "    median_age.append(np.median(str_median_age))\n",
    "median_age = np.around(median_age, decimals = 1)\n",
    "\n",
    "matrix['teacher_age_median'] = median_age\n",
    "matrix = matrix.drop_duplicates(subset = ['name', 'real_revenue19'], keep='first')\n",
    "\n",
    "\n",
    "print('ДОБАВЛЕНЫ СТОЛБЦЫ\\nteacher_age_avg\\nteacher_age_median \\n\\nВ МАТРИЦЕ:')\n",
    "matrix.info(verbose = False)"
   ]
  },
  {
   "cell_type": "code",
   "execution_count": 10,
   "metadata": {
    "scrolled": false
   },
   "outputs": [
    {
     "name": "stdout",
     "output_type": "stream",
     "text": [
      "Для сортировки таблицы статистических данных установите приоритеты, выбрав варианты:\n",
      "\n",
      "Большое количество ВУЗов на 100000 человек - это:           0 - не важно; 1 - важно; 2 - очень важно     | Ваш ответ - 1\n",
      "Стремление населения к получению высшего образования - это: 0 - не важно; 1 - важно; 2 - очень важно     | Ваш ответ - 2\n",
      "Высокая доля студентов на дневной форме обучения - это:     0 - не важно; 1 - важно; 2 - очень важно     | Ваш ответ - 1\n",
      "Высокая доля женщин среди студентов - это:                  0 - не важно; 1 - важно; 2 - очень важно     | Ваш ответ - 0\n",
      "Высокий отсев неуспевающих - это:                          -1 - плохо; 0 - не важно; 1 - хорошо          | Ваш ответ - 0\n",
      "Высокий процент экстернатуры - это:                         0 - не важно; 1 - важно; 2 - очень важно     | Ваш ответ - 1\n",
      "Высокая доля преподавателей, имеющих научную степень - это: 0 - не важно; 1 - важно; 2 - очень важно     | Ваш ответ - 2\n",
      "Молодой возраст преподавателей - это:                       0 - не важно; 1 - важно; 2 - очень важно     | Ваш ответ - 2\n",
      "\n",
      "\n"
     ]
    },
    {
     "data": {
      "text/html": [
       "<table>\n",
       "<thead>\n",
       "<tr><th style=\"text-align: right;\">  </th><th style=\"text-align: right;\">  Код</th><th>name                </th><th style=\"text-align: right;\">  welfare_rank</th><th style=\"text-align: right;\">  school_on_10^5_people</th><th>share_stud_people  </th><th>share_full_stud  </th><th>share_stud_femail  </th><th>growth_stud  </th><th>screening_out_stud  </th><th>share_extern_stud  </th><th>share_teach_stud  </th><th>share_doc_teach  </th><th>share_mag_teach  </th><th style=\"text-align: right;\">  teacher_age_median</th></tr>\n",
       "</thead>\n",
       "<tbody>\n",
       "<tr><td style=\"text-align: right;\"> 0</td><td style=\"text-align: right;\">   70</td><td>Томская область     </td><td style=\"text-align: right;\">            26</td><td style=\"text-align: right;\">                  1.019</td><td>5.3%               </td><td>66.0%            </td><td>49.4%              </td><td>48.0%        </td><td>32.4%               </td><td>                   </td><td>6.6%              </td><td>19.1%            </td><td>55.4%            </td><td style=\"text-align: right;\">                48  </td></tr>\n",
       "<tr><td style=\"text-align: right;\"> 1</td><td style=\"text-align: right;\">   57</td><td>Орловская область   </td><td style=\"text-align: right;\">            73</td><td style=\"text-align: right;\">                  1.227</td><td>3.9%               </td><td>51.3%            </td><td>54.8%              </td><td>11.4%        </td><td>10.2%               </td><td>                   </td><td>4.9%              </td><td>14.5%            </td><td>68.5%            </td><td style=\"text-align: right;\">                45.4</td></tr>\n",
       "<tr><td style=\"text-align: right;\"> 2</td><td style=\"text-align: right;\">   68</td><td>Тамбовская область  </td><td style=\"text-align: right;\">            63</td><td style=\"text-align: right;\">                  0.695</td><td>2.8%               </td><td>50.2%            </td><td>52.0%              </td><td>27.6%        </td><td>21.7%               </td><td>1.0%               </td><td>4.4%              </td><td>18.2%            </td><td>70.1%            </td><td style=\"text-align: right;\">                44.4</td></tr>\n",
       "<tr><td style=\"text-align: right;\"> 3</td><td style=\"text-align: right;\">   16</td><td>Республика Татарстан</td><td style=\"text-align: right;\">            12</td><td style=\"text-align: right;\">                  1.051</td><td>3.7%               </td><td>60.6%            </td><td>52.2%              </td><td>29.4%        </td><td>22.7%               </td><td>                   </td><td>5.0%              </td><td>15.5%            </td><td>61.1%            </td><td style=\"text-align: right;\">                46  </td></tr>\n",
       "<tr><td style=\"text-align: right;\"> 4</td><td style=\"text-align: right;\">   77</td><td>г.Москва            </td><td style=\"text-align: right;\">             4</td><td style=\"text-align: right;\">                  1.199</td><td>5.5%               </td><td>66.7%            </td><td>52.7%              </td><td>17.8%        </td><td>15.1%               </td><td>1.9%               </td><td>6.8%              </td><td>18.7%            </td><td>52.8%            </td><td style=\"text-align: right;\">                51.9</td></tr>\n",
       "<tr><td style=\"text-align: right;\"> 5</td><td style=\"text-align: right;\">   46</td><td>Курская область     </td><td style=\"text-align: right;\">            52</td><td style=\"text-align: right;\">                  0.996</td><td>3.3%               </td><td>51.8%            </td><td>57.3%              </td><td>3.4%         </td><td>3.3%                </td><td>0.0%               </td><td>4.8%              </td><td>17.9%            </td><td>63.6%            </td><td style=\"text-align: right;\">                45.5</td></tr>\n",
       "<tr><td style=\"text-align: right;\"> 6</td><td style=\"text-align: right;\">   78</td><td>г.Санкт-Петербург   </td><td style=\"text-align: right;\">             5</td><td style=\"text-align: right;\">                  1.297</td><td>5.6%               </td><td>72.6%            </td><td>53.7%              </td><td>44.7%        </td><td>30.9%               </td><td>0.7%               </td><td>7.1%              </td><td>18.6%            </td><td>54.8%            </td><td style=\"text-align: right;\">                52.2</td></tr>\n",
       "<tr><td style=\"text-align: right;\"> 7</td><td style=\"text-align: right;\">   13</td><td>Республика Мордовия </td><td style=\"text-align: right;\">            55</td><td style=\"text-align: right;\">                  0.633</td><td>3.2%               </td><td>59.9%            </td><td>56.5%              </td><td>10.4%        </td><td>9.4%                </td><td>                   </td><td>5.8%              </td><td>15.3%            </td><td>70.6%            </td><td style=\"text-align: right;\">                45.3</td></tr>\n",
       "<tr><td style=\"text-align: right;\"> 8</td><td style=\"text-align: right;\">   26</td><td>Ставропольский край </td><td style=\"text-align: right;\">            48</td><td style=\"text-align: right;\">                  1.141</td><td>2.5%               </td><td>51.3%            </td><td>52.6%              </td><td>8.9%         </td><td>8.2%                </td><td>0.1%               </td><td>5.2%              </td><td>15.5%            </td><td>66.8%            </td><td style=\"text-align: right;\">                44.6</td></tr>\n",
       "<tr><td style=\"text-align: right;\"> 9</td><td style=\"text-align: right;\">   36</td><td>Воронежская область </td><td style=\"text-align: right;\">            28</td><td style=\"text-align: right;\">                  1.033</td><td>3.7%               </td><td>57.0%            </td><td>51.9%              </td><td>16.0%        </td><td>13.8%               </td><td>1.3%               </td><td>5.5%              </td><td>17.1%            </td><td>59.1%            </td><td style=\"text-align: right;\">                47.7</td></tr>\n",
       "</tbody>\n",
       "</table>"
      ],
      "text/plain": [
       "<IPython.core.display.HTML object>"
      ]
     },
     "metadata": {},
     "output_type": "display_data"
    },
    {
     "data": {
      "text/html": [
       "\n",
       "        <script>\n",
       "            function code_toggle_3703876665206633029() {\n",
       "                $('div.cell.code_cell.rendered.selected').find('div.input').toggle();\n",
       "            }\n",
       "\n",
       "            \n",
       "        </script>\n",
       "\n",
       "        <a href=\"javascript:code_toggle_3703876665206633029()\">Код ячейки скрыт</a>\n",
       "    "
      ],
      "text/plain": [
       "<IPython.core.display.HTML object>"
      ]
     },
     "execution_count": 10,
     "metadata": {},
     "output_type": "execute_result"
    }
   ],
   "source": [
    "# Вывод на экран итоговой матрицы параметров\n",
    "\n",
    "target_columns = ['Код', 'name', 'welfare_rank', 'school_on_10^5_people'\n",
    "                  , 'share_stud_people', 'share_full_stud'\n",
    "                  , 'share_stud_femail', 'growth_stud', 'screening_out_stud', 'share_extern_stud' \n",
    "                  , 'share_teach_stud', 'share_doc_teach', 'share_mag_teach', 'teacher_age_median']\n",
    "\n",
    "print('Для сортировки таблицы статистических данных установите приоритеты, выбрав варианты:\\n')\n",
    "a = input('Большое количество ВУЗов на 100000 человек - это:           0 - не важно; 1 - важно; 2 - очень важно     | Ваш ответ - ')\n",
    "b = input('Стремление населения к получению высшего образования - это: 0 - не важно; 1 - важно; 2 - очень важно     | Ваш ответ - ')\n",
    "c = input('Высокая доля студентов на дневной форме обучения - это:     0 - не важно; 1 - важно; 2 - очень важно     | Ваш ответ - ')\n",
    "d = input('Высокая доля женщин среди студентов - это:                  0 - не важно; 1 - важно; 2 - очень важно     | Ваш ответ - ')\n",
    "e = input('Высокий отсев неуспевающих - это:                          -1 - плохо; 0 - не важно; 1 - хорошо          | Ваш ответ - ')\n",
    "f = input('Высокий процент экстернатуры - это:                         0 - не важно; 1 - важно; 2 - очень важно     | Ваш ответ - ')\n",
    "g = input('Высокая доля преподавателей, имеющих научную степень - это: 0 - не важно; 1 - важно; 2 - очень важно     | Ваш ответ - ')\n",
    "h = input('Молодой возраст преподавателей - это:                       0 - не важно; 1 - важно; 2 - очень важно     | Ваш ответ - ')\n",
    "\n",
    "print('\\n')\n",
    "\n",
    "priority_vector = [int(a),int(b),int(c),int(d),int(e),int(f),int(g),int(h)]\n",
    "\n",
    "#priority_vector = [1,1,1,1,1,0,0,1]\n",
    "\n",
    "def priority_distribution(view, vector):\n",
    "    scaler = MinMaxScaler()\n",
    "    \n",
    "    view['a'] = scaler.fit_transform(np.array(view['school_on_10^5_people']).reshape(-1,1))\n",
    "    view['b'] = scaler.fit_transform(np.array(view['share_stud_people']).reshape(-1,1))\n",
    "    view['c'] = scaler.fit_transform(np.array(view['share_full_stud']).reshape(-1,1))\n",
    "    view['d'] = scaler.fit_transform(np.array(view['share_stud_femail']).reshape(-1,1))\n",
    "    view['e'] = scaler.fit_transform(np.array(view['screening_out_stud']).reshape(-1,1))\n",
    "    view['f'] = scaler.fit_transform(np.array(view['share_extern_stud']).reshape(-1,1))\n",
    "    view['g'] = scaler.fit_transform((np.array(view['share_doc_teach'])*2 + np.array(view['share_mag_teach']))\n",
    "                                     .reshape(-1,1))\n",
    "    view['h'] = scaler.fit_transform(1 - np.array(view['teacher_age_median']).reshape(-1,1))\n",
    "                                     \n",
    "    priority_matrix = np.array(view[['a','b','c','d','e','f','g','h']]) * vector\n",
    "    priority_vector = []\n",
    "    for c in priority_matrix:\n",
    "        priority_vector.append(sum(c))\n",
    "    view['rank'] = priority_vector\n",
    "    view = view.sort_values(by = 'rank', ascending = False)\n",
    "    return view\n",
    "\n",
    "view = priority_distribution(matrix, priority_vector)\n",
    "view = show_matrix(view, target_columns + ['rank'])\n",
    "view = view[view['rank'] != '']\n",
    "view = view[view['rank'] > view['rank'].quantile(0.9)]\n",
    "\n",
    "display(HTML(tabulate(np.array(view[target_columns]), headers = target_columns, tablefmt='html', showindex=\"always\")))\n",
    "\n",
    "hide_toggle('Код ячейки скрыт')"
   ]
  },
  {
   "cell_type": "markdown",
   "metadata": {},
   "source": [
    "В таблице представлены:\n",
    "\n",
    "* __school_on_10^5_people__ - количество высших учебных заведений на 100 000 человек населения\n",
    "* __share_stud_people__ - отношение числа студентов к населению региона\n",
    "* __share_full_stud__ - доля студентов дневной формы обучения\n",
    "* __share_evening_stud__ - доля студентов вечерней фрмы обучения \n",
    "* __share_corr_stud__ - доля студентов заочной формы обучения\n",
    "* __share_stud_femail__ - доля студентов женщин\n",
    "* __growth_stud__ и __screening_out_stud__ - показатели соотношения количества студентов принятых на обучение и количества завершивших обучение. Не имея информации о методике сбора этих данных, их можно интерпретировать как показатель доли студентов не завершивших обучение по причине неуспеваемости, либо как показатель изменения общего количества обучающихся за время, прошедшее с года поступления студентов, завершающих образование, до времени фиксации количества поступивших студентов. Таким образом, в зависимости от выбраного метода интерпретации, признак __growth_stud__ может указывать на прирост количества обучающихся, а признак __screening_out_stud__ укажет на процент отсева студентов за время обучения. \n",
    "* __share_extern_stud__ - доля студентов, завершивших обучение экстерном\n",
    "* __share_teach_stud__ - отношение количества преподавательского состава к количесту обучающихся\n",
    "* __share_doc_teach__ - доля докторов наук среди преподавателей\n",
    "* __share_mag_teach__ - доля кандидатов в доктора наук среди преподавателей\n",
    "* __teacher_age_median__ - медианный возраст преподавательского состава.\n",
    "\n",
    "Сортировка таблицы производится по расчетному рангу. Приоритеты для выполения расчета ранга субъектов федерации с точки зрения качества образования выбираются пользователем самостоятельно путем выбора весовых коэффициентов.\n",
    "\n",
    "На экран выводятся строки, соответствующие условию превышения 90%-го квантиля."
   ]
  }
 ],
 "metadata": {
  "kernelspec": {
   "display_name": "Python 3",
   "language": "python",
   "name": "python3"
  },
  "language_info": {
   "codemirror_mode": {
    "name": "ipython",
    "version": 3
   },
   "file_extension": ".py",
   "mimetype": "text/x-python",
   "name": "python",
   "nbconvert_exporter": "python",
   "pygments_lexer": "ipython3",
   "version": "3.7.4"
  }
 },
 "nbformat": 4,
 "nbformat_minor": 2
}
